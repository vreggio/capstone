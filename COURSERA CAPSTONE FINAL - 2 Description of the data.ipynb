{
 "cells": [
  {
   "cell_type": "markdown",
   "metadata": {},
   "source": [
    "# 2 - Description of the data\n",
    "\n",
    "For the subsequent task, will be used two geojson files with the neighborhoods of Rio de Janeiro and Recife cities. They are avaiable, respectively:\n",
    "\n",
    "a) \"https://opendata.arcgis.com/datasets/dc94b29fc3594a5bb4d297bee0c9a3f2_15.geojson\";\n",
    "\n",
    "b) \"http://dados.recife.pe.gov.br/dataset/c1f100f0-f56f-4dd4-9dcc-1aa4da28798a/resource/e43bee60-9448-4d3d-92ff-2378bc3b5b00/download/bairros.geojson\".\n",
    "\n",
    "Besides, will be used the Geopy library to obtain latitudes and longitudes. Also, FourSquare API library, for the purpose of collect the data about the restaurants in each neighborhood of each city.\n",
    "\n",
    "In the end, the last data explored is about the travellers from other countries which visit the cities and will be used to discuss the conclusion. It can be downloaded here:\n",
    "\n",
    "\"http://www.dadosefatos.turismo.gov.br/2016-02-04-11-54-03/demanda-tur%C3%ADstica-internacional/item/download/980_7bcddf9f8e6f247f68c5f5754ce64df7.html\"\n"
   ]
  }
 ],
 "metadata": {
  "kernelspec": {
   "display_name": "Python 3",
   "language": "python",
   "name": "python3"
  },
  "language_info": {
   "codemirror_mode": {
    "name": "ipython",
    "version": 3
   },
   "file_extension": ".py",
   "mimetype": "text/x-python",
   "name": "python",
   "nbconvert_exporter": "python",
   "pygments_lexer": "ipython3",
   "version": "3.8.3"
  }
 },
 "nbformat": 4,
 "nbformat_minor": 4
}
