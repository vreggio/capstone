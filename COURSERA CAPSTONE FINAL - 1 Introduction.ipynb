{
 "cells": [
  {
   "cell_type": "markdown",
   "metadata": {},
   "source": [
    "# 1. Introduction\n",
    "\n",
    "1.1 Description of the problem.\n",
    "\n",
    "Brazil has a huge coast and many coastal cities. There are famous and remarkable metropolis, like Rio de Janeiro, known as gorgeous tourist place.\n",
    "In order to achive a business (restaurant), how could we provide answers to some questions like: What are the most commons types of restaurants? Which kind are they? How many are they in the city, and in which part of the city are they more common? In comparison to another city, is there a correlation between the types and the numbers?\n",
    "\n",
    "1.1.1 Target Audience\n",
    "\n",
    "The target audience is:\n",
    "\n",
    "- food business entrepreneurs\n",
    "- real state agents\n",
    "- tourists that wants to see more deep the characteristics of the two cities\n",
    "\n",
    "1.2 Discussion of the background\n",
    "\n",
    "Rio de Janeiro is a brazilian´s big city, with nearly 7 million  inhabitants that receive more than 2 million tourists a year. Entertainment places well known are the “Cristo Redentor” and “Pão de Açúcar”, but there are many museums, beaches, parks, aquariums avaiables to the visitors. For them, hotels and restaurants from different flags are avaliable options.\n",
    "An ordinary traveller must spend a good money dayly in restaurants, so this kind of bussiness must be thriving in touristic places. The choice to open a restaurant from different categories must be supported by analysis whether there are same venues around and so on. And just for comparison, we´ll try to see, using the Fourquare API  with the Folium library, if there is any kind of correlation between the restaurant types of Rio de Janeiro and other state capital and touristic city, Recife."
   ]
  },
  {
   "cell_type": "code",
   "execution_count": null,
   "metadata": {},
   "outputs": [],
   "source": []
  }
 ],
 "metadata": {
  "kernelspec": {
   "display_name": "Python 3",
   "language": "python",
   "name": "python3"
  },
  "language_info": {
   "codemirror_mode": {
    "name": "ipython",
    "version": 3
   },
   "file_extension": ".py",
   "mimetype": "text/x-python",
   "name": "python",
   "nbconvert_exporter": "python",
   "pygments_lexer": "ipython3",
   "version": "3.8.3"
  }
 },
 "nbformat": 4,
 "nbformat_minor": 4
}
